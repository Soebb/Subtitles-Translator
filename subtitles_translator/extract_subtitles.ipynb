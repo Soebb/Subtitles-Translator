{
 "cells": [
  {
   "cell_type": "code",
   "execution_count": 1,
   "metadata": {},
   "outputs": [],
   "source": [
    "import subprocess as sp\n",
    "import json\n",
    "import pprint"
   ]
  },
  {
   "cell_type": "code",
   "execution_count": 4,
   "metadata": {},
   "outputs": [],
   "source": [
    "out = sp.run(['ffmpeg','-i', \"./three_body_ep8_eng.mp4\", '-map', 's:0', '-f','srt','-'],\\\n",
    "             stdout=sp.PIPE, stderr=sp.PIPE, universal_newlines=True)\n",
    "subtitle = out.stdout"
   ]
  },
  {
   "cell_type": "code",
   "execution_count": 5,
   "metadata": {},
   "outputs": [
    {
     "name": "stdout",
     "output_type": "stream",
     "text": [
      "1\n",
      "00:00:16,870 --> 00:00:21,000\n",
      "Ji Chang, it's been eight nights.\n",
      "\n",
      "2\n",
      "00:00:21,000 --> 00:00:23,280\n",
      "W\n"
     ]
    }
   ],
   "source": [
    "print(subtitle[:100])"
   ]
  }
 ],
 "metadata": {
  "kernelspec": {
   "display_name": "srt_translate_env",
   "language": "python",
   "name": "python3"
  },
  "language_info": {
   "codemirror_mode": {
    "name": "ipython",
    "version": 3
   },
   "file_extension": ".py",
   "mimetype": "text/x-python",
   "name": "python",
   "nbconvert_exporter": "python",
   "pygments_lexer": "ipython3",
   "version": "3.10.10"
  },
  "orig_nbformat": 4,
  "vscode": {
   "interpreter": {
    "hash": "59ca29426218363ee49d0a2569094b6a4645ed9b9406be657559058425fb87ac"
   }
  }
 },
 "nbformat": 4,
 "nbformat_minor": 2
}
